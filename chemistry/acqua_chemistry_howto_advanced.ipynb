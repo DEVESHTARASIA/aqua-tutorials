{
 "cells": [
  {
   "cell_type": "markdown",
   "metadata": {},
   "source": [
    "## _*QISKit ACQUA Chemistry advanced how to*_\n",
    "\n",
    "This notebook demonstrates how to use QISKit ACQUA Chemistry to compute the ground state energy of a Lithium Hydride (LiH) molecule using VQE and UCCSD.\n",
    "\n",
    "This notebook shows how to experiment with the ground state energy of a molecule step by step by using low-level programming API as compared to simpliy feeding a configuraiton dict as in [acqua_chemistry_howto](acqua_chemistry_howto.ipynb) example.\n",
    "\n",
    "Here we demonstrate\n",
    "  1. how to define a molecule and get integrals from a driver (PySCF)\n",
    "  2. how to construct a fermionic operator and freeze/eliminate the orbitals\n",
    "  3. how to map a fermionic operator to a qubit operator\n",
    "  4. how to get dynamically-loadded instance, such as algorithm, optimizer, variational_form, and initial_state\n",
    "  5. how to configure above instance programmatically\n",
    "  6. how to retrieve the results from the algorithm"
   ]
  },
  {
   "cell_type": "code",
   "execution_count": 1,
   "metadata": {
    "collapsed": true
   },
   "outputs": [],
   "source": [
    "# import common packages\n",
    "import numpy as np\n",
    "import copy\n",
    "\n",
    "import qiskit\n",
    "from qiskit import QuantumRegister, ClassicalRegister, QuantumCircuit\n",
    "\n",
    "# lib from QISKit ACQUA Chemistry\n",
    "from qiskit_acqua_chemistry import FermionicOperator\n",
    "\n",
    "# lib from QISKit ACQUA\n",
    "from qiskit_acqua.operator import Operator\n",
    "from qiskit_acqua import (get_algorithm_instance, get_optimizer_instance, get_variational_form_instance, get_initial_state_instance)\n",
    "\n",
    "# lib for driver\n",
    "from qiskit_acqua_chemistry.drivers import ConfigurationManager\n",
    "from collections import OrderedDict\n",
    "\n",
    "import logging\n",
    "logger = logging.getLogger()\n",
    "logger.setLevel(logging.DEBUG)"
   ]
  },
  {
   "cell_type": "code",
   "execution_count": 2,
   "metadata": {
    "collapsed": true
   },
   "outputs": [],
   "source": [
    "# using driver to get fermionic Hamiltonian\n",
    "# PySCF example\n",
    "cfg_mgr = ConfigurationManager()\n",
    "pyscf_cfg = OrderedDict([('atom', 'Li .0 .0 .0; H .0 .0 1.6'), ('unit', 'Angstrom'), ('charge', 0), ('spin', 0), ('basis', 'sto3g')])\n",
    "section = {}\n",
    "section['properties'] = pyscf_cfg\n",
    "driver = cfg_mgr.get_driver_instance('PYSCF')\n",
    "molecule = driver.run(section)"
   ]
  },
  {
   "cell_type": "code",
   "execution_count": 3,
   "metadata": {},
   "outputs": [
    {
     "name": "stdout",
     "output_type": "stream",
     "text": [
      "HF energy: -8.821861340282716\n",
      "# of electrons: 4\n",
      "# of spin orbitals: 12\n"
     ]
    }
   ],
   "source": [
    "# set up the to-be-frozen and to-be-removed orbitals\n",
    "# please be aware that the idx here with respective to original idx\n",
    "freeze_list = [0]\n",
    "remove_list = [-3, -2] # negative number denotes the reverse order\n",
    "\n",
    "h1 = molecule._one_body_integrals\n",
    "h2 = molecule._two_body_integrals\n",
    "nuclear_repulsion_energy = molecule._nuclear_repulsion_energy\n",
    "\n",
    "num_electrons = molecule._num_alpha + molecule._num_beta\n",
    "num_spin_orbitals = molecule._num_orbitals * 2\n",
    "print(\"HF energy: {}\".format(molecule._hf_energy - molecule._nuclear_repulsion_energy))\n",
    "print(\"# of electrons: {}\".format(num_electrons))\n",
    "print(\"# of spin orbitals: {}\".format(num_spin_orbitals))\n",
    "\n",
    "# prepare full idx of freeze_list and remove_list\n",
    "# convert all negative idx to positive\n",
    "remove_list = [x % molecule._num_orbitals for x in remove_list]\n",
    "freeze_list = [x % molecule._num_orbitals for x in freeze_list]\n",
    "# update the idx in remove_list of the idx after frozen, since the idx of orbitals are changed after freezing\n",
    "remove_list = [x - len(freeze_list) for x in remove_list]\n",
    "remove_list += [x + molecule._num_orbitals - len(freeze_list)  for x in remove_list]\n",
    "freeze_list += [x + molecule._num_orbitals for x in freeze_list]"
   ]
  },
  {
   "cell_type": "code",
   "execution_count": 4,
   "metadata": {
    "collapsed": true
   },
   "outputs": [],
   "source": [
    "# prepare fermionic hamiltonian with orbital freezing and eliminating, and then map to qubit hamiltonian\n",
    "# and if PARITY mapping is selected, reduction qubits\n",
    "energy_shift = 0.0\n",
    "map_type = 'PARITY'\n",
    "qubit_reduction = True if map_type == 'PARITY' else False\n",
    "\n",
    "ferOp = FermionicOperator(h1=h1, h2=h2)\n",
    "if len(freeze_list) > 0:\n",
    "    ferOp, energy_shift = ferOp.fermion_mode_freezing(freeze_list)\n",
    "    num_spin_orbitals -= len(freeze_list)\n",
    "    num_electrons -= len(freeze_list)\n",
    "if len(remove_list) > 0:\n",
    "    ferOp = ferOp.fermion_mode_elimination(remove_list)\n",
    "    num_spin_orbitals -= len(remove_list)\n",
    "\n",
    "qubitOp = ferOp.mapping(map_type=map_type, threshold=0.00000001)\n",
    "qubitOp = qubitOp.two_qubit_reduced_operator(num_electrons) if qubit_reduction else qubitOp\n",
    "qubitOp.chop(10**-10)"
   ]
  },
  {
   "cell_type": "code",
   "execution_count": 5,
   "metadata": {},
   "outputs": [
    {
     "name": "stdout",
     "output_type": "stream",
     "text": [
      "The computed energy is: -1.077062771826\n",
      "The exact ground state energy is: -7.881071908676\n"
     ]
    }
   ],
   "source": [
    "# Using exact eigensolver to get the smallest eigenvalue\n",
    "exact_eigensolver = get_algorithm_instance('ExactEigensolver')\n",
    "exact_eigensolver.init_args(qubitOp, k=1)\n",
    "ret = exact_eigensolver.run()\n",
    "print('The computed energy is: {:.12f}'.format(ret['eigvals'][0].real))\n",
    "print('The exact ground state energy is: {:.12f}'.format(ret['eigvals'][0].real + energy_shift + nuclear_repulsion_energy))"
   ]
  },
  {
   "cell_type": "code",
   "execution_count": 6,
   "metadata": {
    "scrolled": true
   },
   "outputs": [
    {
     "name": "stdout",
     "output_type": "stream",
     "text": [
      "The computed ground state energy is: -1.077062762924\n",
      "The exact ground state energy is: -7.881071899774\n",
      "Parameters: [-0.03610072 -0.00547355 -0.03596927 -0.00549639 -0.03871587  0.0604038\n",
      "  0.06042029 -0.11646837]\n"
     ]
    }
   ],
   "source": [
    "# setup VQE \n",
    "# setup optimizer, use L_BFGS_B optimizer for example\n",
    "max_eval = 200\n",
    "# lbfgs = get_optimizer_instance('L_BFGS_B')\n",
    "# lbfgs.set_options(factr=10, iprint=1, maxfun=max_eval)\n",
    "# spsa = get_optimizer_instance('SPSA')\n",
    "# spsa.init_args(max_trials=max_eval)\n",
    "cobyla = get_optimizer_instance('COBYLA')\n",
    "cobyla.set_options(maxiter=max_eval)\n",
    "\n",
    "# setup variation form generator (generate trial circuits for VQE)\n",
    "HF_state = get_initial_state_instance('HartreeFock')\n",
    "HF_state.init_args(qubitOp.num_qubits, num_spin_orbitals, map_type, qubit_reduction, num_electrons)\n",
    "var_form = get_variational_form_instance('UCCSD')\n",
    "var_form.init_args(qubitOp.num_qubits, depth=1, num_orbitals=num_spin_orbitals, num_particles = num_electrons, \n",
    "                   active_occupied=[0], active_unoccupied=[0, 1],\n",
    "                   initial_state=HF_state, qubit_mapping=map_type, \n",
    "                   two_qubit_reduction=qubit_reduction, num_time_slices=1)\n",
    "\n",
    "init_points = var_form.preferred_init_points\n",
    "vqe_algorithm = get_algorithm_instance('VQE')\n",
    "vqe_algorithm.setup_quantum_backend(backend='local_statevector_simulator')\n",
    "vqe_algorithm.init_args(qubitOp, 'matrix', var_form, cobyla, opt_init_point=init_points)\n",
    "results = vqe_algorithm.run()\n",
    "print('The computed ground state energy is: {:.12f}'.format(results['eigvals'][0]))\n",
    "print('The exact ground state energy is: {:.12f}'.format(results['eigvals'][0] + energy_shift + nuclear_repulsion_energy))\n",
    "print(\"Parameters: {}\".format(results['opt_params']))"
   ]
  }
 ],
 "metadata": {
  "kernelspec": {
   "display_name": "quantum-dev",
   "language": "python",
   "name": "quantum-dev"
  },
  "language_info": {
   "codemirror_mode": {
    "name": "ipython",
    "version": 3
   },
   "file_extension": ".py",
   "mimetype": "text/x-python",
   "name": "python",
   "nbconvert_exporter": "python",
   "pygments_lexer": "ipython3",
   "version": "3.6.5"
  }
 },
 "nbformat": 4,
 "nbformat_minor": 2
}
