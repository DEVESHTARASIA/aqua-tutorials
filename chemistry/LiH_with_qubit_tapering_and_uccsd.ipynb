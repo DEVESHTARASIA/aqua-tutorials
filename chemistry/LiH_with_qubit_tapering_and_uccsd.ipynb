{
 "cells": [
  {
   "cell_type": "code",
   "execution_count": 1,
   "metadata": {
    "collapsed": true
   },
   "outputs": [],
   "source": [
    "# import common packages\n",
    "from collections import OrderedDict\n",
    "import itertools\n",
    "import logging\n",
    "\n",
    "import numpy as np\n",
    "import scipy\n",
    "\n",
    "from qiskit_aqua import (get_algorithm_instance, get_optimizer_instance, \n",
    "                        get_variational_form_instance, get_initial_state_instance, Operator)\n",
    "from qiskit_aqua._logging import build_logging_config, set_logging_config\n",
    "from qiskit_aqua_chemistry.drivers import ConfigurationManager\n",
    "from qiskit_aqua_chemistry.core import get_chemistry_operator_instance\n",
    "\n",
    "# set_logging_config(build_logging_config(logging.INFO))"
   ]
  },
  {
   "cell_type": "code",
   "execution_count": 2,
   "metadata": {
    "collapsed": true
   },
   "outputs": [],
   "source": [
    "# using driver to get fermionic Hamiltonian\n",
    "cfg_mgr = ConfigurationManager()\n",
    "pyscf_cfg = OrderedDict([('atom', 'Li .0 .0 .0; H .0 .0 1.6'), \n",
    "                         ('unit', 'Angstrom'), ('charge', 0), \n",
    "                         ('spin', 0), ('basis', 'sto3g')])\n",
    "section = {}\n",
    "section['properties'] = pyscf_cfg\n",
    "driver = cfg_mgr.get_driver_instance('PYSCF')\n",
    "molecule = driver.run(section)"
   ]
  },
  {
   "cell_type": "code",
   "execution_count": 3,
   "metadata": {},
   "outputs": [
    {
     "name": "stdout",
     "output_type": "stream",
     "text": [
      "Originally require 8 qubits\n",
      "Representation: paulis, qubits: 8, size: 276\n"
     ]
    }
   ],
   "source": [
    "core = get_chemistry_operator_instance('hamiltonian')\n",
    "hamiltonian_cfg = OrderedDict([\n",
    "    ('name', 'hamiltonian'),\n",
    "    ('transformation', 'full'),\n",
    "    ('qubit_mapping', 'parity'),\n",
    "    ('two_qubit_reduction', True),\n",
    "    ('freeze_core', True),\n",
    "    ('orbital_reduction', [])\n",
    "])\n",
    "core.init_params(hamiltonian_cfg)\n",
    "algo_input = core.run(molecule)\n",
    "qubit_op = algo_input.qubit_op\n",
    "\n",
    "print(\"Originally require {} qubits\".format(qubit_op.num_qubits))\n",
    "print(qubit_op)"
   ]
  },
  {
   "cell_type": "markdown",
   "metadata": {},
   "source": [
    "Find the symmetries from the qubit operator"
   ]
  },
  {
   "cell_type": "code",
   "execution_count": 4,
   "metadata": {},
   "outputs": [
    {
     "name": "stdout",
     "output_type": "stream",
     "text": [
      "Z2 symmetries found:\n",
      "IZIZIZIZ\n",
      "IIZZIIZZ\n",
      "single qubit operators found:\n",
      "IXIIIIII\n",
      "IIXIIIII\n",
      "cliffords found:\n",
      "IZIZIZIZ\t0.7071067811865475\n",
      "IXIIIIII\t0.7071067811865475\n",
      "\n",
      "IIZZIIZZ\t0.7071067811865475\n",
      "IIXIIIII\t0.7071067811865475\n",
      "\n",
      "single-qubit list: [1, 2]\n"
     ]
    }
   ],
   "source": [
    "[symmetries, sq_paulis, cliffords, sq_list] = qubit_op.find_Z2_symmetries()\n",
    "print('Z2 symmetries found:')\n",
    "for symm in symmetries:\n",
    "    print(symm.to_label())\n",
    "print('single qubit operators found:')\n",
    "for sq in sq_paulis:\n",
    "    print(sq.to_label())\n",
    "print('cliffords found:')\n",
    "for clifford in cliffords:\n",
    "    print(clifford.print_operators())\n",
    "print('single-qubit list: {}'.format(sq_list))"
   ]
  },
  {
   "cell_type": "markdown",
   "metadata": {},
   "source": [
    "Use the found symmetries, signle qubit operators, and cliffords to taper the qubit operator. One found symmetry can taper one qubit. However, we need to validate which sector is corresponding to targeted sector after tapering the qubit."
   ]
  },
  {
   "cell_type": "code",
   "execution_count": 5,
   "metadata": {},
   "outputs": [
    {
     "name": "stdout",
     "output_type": "stream",
     "text": [
      "Number of qubits of tapered qubit operator: 6\n",
      "Number of qubits of tapered qubit operator: 6\n",
      "Number of qubits of tapered qubit operator: 6\n",
      "Number of qubits of tapered qubit operator: 6\n"
     ]
    }
   ],
   "source": [
    "tapered_ops = []\n",
    "for coeff in itertools.product([1, -1], repeat=len(sq_list)):\n",
    "    tapered_op = Operator.qubit_tapering(qubit_op, cliffords, sq_list, list(coeff))\n",
    "    tapered_ops.append((list(coeff), tapered_op))\n",
    "    print(\"Number of qubits of tapered qubit operator: {}\".format(tapered_op.num_qubits))"
   ]
  },
  {
   "cell_type": "markdown",
   "metadata": {},
   "source": [
    "For example, we can use classical eigen decomposition to find the one achieving the smallest eigenvalue (computed part). Let us get the original eigenvalue as a reference."
   ]
  },
  {
   "cell_type": "code",
   "execution_count": 6,
   "metadata": {
    "scrolled": true
   },
   "outputs": [
    {
     "name": "stdout",
     "output_type": "stream",
     "text": [
      "=== GROUND STATE ENERGY ===\n",
      " \n",
      "* Electronic ground state energy (Hartree): -8.874303870396\n",
      "  - computed part:      -1.078084301625\n",
      "  - frozen energy part: -7.796219568771\n",
      "  - particle hole part: 0.0\n",
      "~ Nuclear repulsion energy (Hartree): 0.992207270475\n",
      "> Total ground state energy (Hartree): -7.882096599921\n"
     ]
    }
   ],
   "source": [
    "ee = get_algorithm_instance('ExactEigensolver')\n",
    "ee.init_args(qubit_op, k=1)\n",
    "result = core.process_algorithm_result(ee.run())\n",
    "for line in result[0]:\n",
    "    print(line)"
   ]
  },
  {
   "cell_type": "markdown",
   "metadata": {},
   "source": [
    "Now, let us iterate through all tapered qubit operators to find out **the** qubit operator."
   ]
  },
  {
   "cell_type": "code",
   "execution_count": 7,
   "metadata": {},
   "outputs": [
    {
     "name": "stdout",
     "output_type": "stream",
     "text": [
      "At 0-th tapered operator, the smallest eigenvalue (computed part) is -1.078084301625\n",
      "At 1-th tapered operator, the smallest eigenvalue (computed part) is -0.509523578167\n",
      "At 2-th tapered operator, the smallest eigenvalue (computed part) is -0.912078232998\n",
      "At 3-th tapered operator, the smallest eigenvalue (computed part) is -0.912078232998\n",
      "The 0-th tapered operator is the one we wanted at coeff is [1, 1]\n"
     ]
    }
   ],
   "source": [
    "smallest_eig_value = 99999999999999\n",
    "smallest_idx = -1\n",
    "for idx in range(len(tapered_ops)):\n",
    "    ee.init_args(tapered_ops[idx][1], k=1)\n",
    "    curr_value = ee.run()['energy']\n",
    "    if curr_value < smallest_eig_value:\n",
    "        smallest_eig_value = curr_value\n",
    "        smallest_idx = idx\n",
    "    print(\"At {}-th tapered operator, the smallest eigenvalue (computed part) is {:.12f}\".format(idx, curr_value))\n",
    "    \n",
    "the_tapered_op = tapered_ops[smallest_idx][1]\n",
    "the_coeff = tapered_ops[smallest_idx][0]\n",
    "print(\"The {}-th tapered operator is the one we wanted at coeff is {}\".format(smallest_idx, the_coeff))"
   ]
  },
  {
   "cell_type": "markdown",
   "metadata": {},
   "source": [
    "Or, we can run through multiple VQE to find the suitable one. Here we use UCCSD variational form as example, other variational forms can be used in the similar way.\n",
    "Let us skipping it for now, just valiate `the_tapered_op` reach the smallest eigenvalue in quantum simulation."
   ]
  },
  {
   "cell_type": "code",
   "execution_count": 8,
   "metadata": {},
   "outputs": [],
   "source": [
    "# setup initial state\n",
    "init_state = get_initial_state_instance('HartreeFock')\n",
    "init_state.init_args(num_qubits=the_tapered_op.num_qubits, num_orbitals=core._molecule_info['num_orbitals'],\n",
    "                    qubit_mapping=core._qubit_mapping, two_qubit_reduction=core._two_qubit_reduction,\n",
    "                    num_particles=core._molecule_info['num_particles'], sq_list=sq_list)\n",
    "\n",
    "# setup variationl form\n",
    "var_form = get_variational_form_instance('UCCSD')\n",
    "var_form.init_args(num_qubits=the_tapered_op.num_qubits, depth=1,\n",
    "                   num_orbitals=core._molecule_info['num_orbitals'], \n",
    "                   num_particles=core._molecule_info['num_particles'],\n",
    "                   active_occupied=None, active_unoccupied=None, initial_state=init_state,\n",
    "                   qubit_mapping=core._qubit_mapping, two_qubit_reduction=core._two_qubit_reduction, \n",
    "                   num_time_slices=1,\n",
    "                   cliffords=cliffords, sq_list=sq_list, tapering_values=the_coeff, symmetries=symmetries)\n",
    "\n",
    "# setup optimizer\n",
    "optimizer = get_optimizer_instance('COBYLA')\n",
    "optimizer.init_args()\n",
    "optimizer.set_options(maxiter=1000)\n",
    "\n",
    "# set vqe\n",
    "algo = get_algorithm_instance('VQE')\n",
    "algo.setup_quantum_backend(backend='local_statevector_simulator')\n",
    "algo.init_args(the_tapered_op, 'matrix', var_form, optimizer)"
   ]
  },
  {
   "cell_type": "code",
   "execution_count": 9,
   "metadata": {},
   "outputs": [],
   "source": [
    "algo_result = algo.run()"
   ]
  },
  {
   "cell_type": "code",
   "execution_count": 10,
   "metadata": {},
   "outputs": [
    {
     "name": "stdout",
     "output_type": "stream",
     "text": [
      "=== GROUND STATE ENERGY ===\n",
      " \n",
      "* Electronic ground state energy (Hartree): -8.874303862903\n",
      "  - computed part:      -1.078084294132\n",
      "  - frozen energy part: -7.796219568771\n",
      "  - particle hole part: 0.0\n",
      "~ Nuclear repulsion energy (Hartree): 0.992207270475\n",
      "> Total ground state energy (Hartree): -7.882096592428\n",
      "The parameters for UCCSD is:\n",
      "[ 0.0384206   0.00716154 -0.0146098   0.00367374  0.03834561 -0.02771513\n",
      " -0.04262298  0.00366472 -0.03617732  0.05947611 -0.02738651 -0.02740638\n",
      "  0.05959429 -0.11506015  0.00731822  0.03657327  0.02673137  0.02848222\n",
      "  0.0020228   0.02426604  0.03251265  0.02146056  0.02741205  0.00601825]\n"
     ]
    }
   ],
   "source": [
    "result = core.process_algorithm_result(algo_result)\n",
    "for line in result[0]:\n",
    "    print(line)\n",
    "\n",
    "print(\"The parameters for UCCSD is:\\n{}\".format(algo_result['opt_params']))"
   ]
  }
 ],
 "metadata": {
  "kernelspec": {
   "display_name": "quantum-dev",
   "language": "python",
   "name": "quantum-dev"
  },
  "language_info": {
   "codemirror_mode": {
    "name": "ipython",
    "version": 3
   },
   "file_extension": ".py",
   "mimetype": "text/x-python",
   "name": "python",
   "nbconvert_exporter": "python",
   "pygments_lexer": "ipython3",
   "version": "3.6.5"
  }
 },
 "nbformat": 4,
 "nbformat_minor": 1
}
