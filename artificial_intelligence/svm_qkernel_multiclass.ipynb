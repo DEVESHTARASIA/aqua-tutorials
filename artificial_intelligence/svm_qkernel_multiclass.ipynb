{
 "cells": [
  {
   "cell_type": "markdown",
   "metadata": {},
   "source": [
    "We apply the multiclass extension algorithms to the classical SVM binary classifier.\n",
    "\n",
    "The extension algorithm converts a binary classifier to the multiclass classifier.\n",
    "\n",
    "we support three extension algorithms:\n",
    "\n",
    "    OneAgainstRest\n",
    "    \n",
    "    AllPairs\n",
    "    \n",
    "    ErrorCorrectingCode\n",
    "    "
   ]
  },
  {
   "cell_type": "markdown",
   "metadata": {},
   "source": [
    "First, we import the packages."
   ]
  },
  {
   "cell_type": "code",
   "execution_count": 1,
   "metadata": {},
   "outputs": [],
   "source": [
    "\n",
    "from datasets import *\n",
    "from qiskit_aqua.utils import split_dataset_to_data_and_labels\n",
    "from qiskit_aqua.input import get_input_instance\n",
    "from qiskit_aqua import run_algorithm\n",
    "import numpy as np\n"
   ]
  },
  {
   "cell_type": "markdown",
   "metadata": {},
   "source": [
    "Then we prepare the data."
   ]
  },
  {
   "cell_type": "code",
   "execution_count": 2,
   "metadata": {},
   "outputs": [],
   "source": [
    "n = 2  # dimension of each data point\n",
    "sample_Total, training_input, test_input, class_labels = Wine(training_size=40,\n",
    "                                                                     test_size=10, n=n, PLOT_DATA=False)\n",
    "\n",
    "temp = [test_input[k] for k in test_input]\n",
    "total_array = np.concatenate(temp)\n"
   ]
  },
  {
   "cell_type": "markdown",
   "metadata": {},
   "source": [
    "Then, we invoke the components by telling Aqua what components are to be used."
   ]
  },
  {
   "cell_type": "code",
   "execution_count": 3,
   "metadata": {},
   "outputs": [
    {
     "name": "stdout",
     "output_type": "stream",
     "text": [
      "{'testing_accuracy': 0.8260869565217391, 'test_success_ratio': 0.8260869565217391, 'predicted_labels': array([0, 0, 0, 0, 0, 0, 1, 0, 0, 0, 1, 2, 1, 1, 1, 0, 1, 1, 1, 1, 2, 2,\n",
      "       1]), 'predicted_classes': ['A', 'A', 'A', 'A', 'A', 'A', 'B', 'A', 'A', 'A', 'B', 'C', 'B', 'B', 'B', 'A', 'B', 'B', 'B', 'B', 'C', 'C', 'B']}\n"
     ]
    }
   ],
   "source": [
    "\n",
    "params = {\n",
    "            'problem': {'name': 'svm_classification', 'random_seed': 10598},\n",
    "            'algorithm': {\n",
    "                'name': 'QSVM.Kernel',\n",
    "            },\n",
    "            'backend': {'name': 'local_qasm_simulator_cpp', 'shots': 1024},\n",
    "            # 'multiclass_extension': {'name': 'OneAgainstRest'},\n",
    "            'multiclass_extension': {'name': 'AllPairs'},\n",
    "            # 'multiclass_extension': {'name': 'ErrorCorrectingCode', 'code_size': 5},\n",
    "            'feature_map': {'name': 'SecondOrderExpansion', 'depth': 2, 'entangler_map': {0: [1]}}\n",
    "        }\n",
    "\n",
    "algo_input = get_input_instance('SVMInput')\n",
    "algo_input.training_dataset = training_input\n",
    "algo_input.test_dataset = test_input\n",
    "algo_input.datapoints = total_array\n",
    "\n",
    "result = run_algorithm(params, algo_input)\n",
    "print(result)\n"
   ]
  }
 ],
 "metadata": {
  "kernelspec": {
   "display_name": "Python 3",
   "language": "python",
   "name": "python3"
  },
  "language_info": {
   "codemirror_mode": {
    "name": "ipython",
    "version": 3
   },
   "file_extension": ".py",
   "mimetype": "text/x-python",
   "name": "python",
   "nbconvert_exporter": "python",
   "pygments_lexer": "ipython3",
   "version": "3.6.5"
  }
 },
 "nbformat": 4,
 "nbformat_minor": 2
}
